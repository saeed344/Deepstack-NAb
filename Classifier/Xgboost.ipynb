{
 "cells": [
  {
   "cell_type": "code",
   "execution_count": null,
   "metadata": {
    "id": "a8mSEpy766EE"
   },
   "outputs": [],
   "source": [
    "from google.colab import drive\n",
    "drive.mount('/content/drive')"
   ]
  },
  {
   "cell_type": "code",
   "execution_count": 1,
   "metadata": {
    "executionInfo": {
     "elapsed": 4041,
     "status": "ok",
     "timestamp": 1718383741428,
     "user": {
      "displayName": "Saeed Ahmed",
      "userId": "03293315304323978946"
     },
     "user_tz": -120
    },
    "id": "Ty4l8d017BXl"
   },
   "outputs": [],
   "source": [
    "import itertools\n",
    "import numpy as np\n",
    "import matplotlib.pyplot as plt\n",
    "from sklearn.metrics import roc_curve, auc\n",
    "import pandas as pd\n",
    "import math\n",
    "\n",
    "def categorical_probas_to_classes(p):\n",
    "    return np.argmax(p, axis=1)\n",
    "\n",
    "def to_categorical(y, nb_classes=None):\n",
    "    '''Convert class vector (integers from 0 to nb_classes)\n",
    "    to binary class matrix, for use with categorical_crossentropy.\n",
    "    '''\n",
    "    y = np.array(y, dtype='int')\n",
    "    if not nb_classes:\n",
    "        nb_classes = np.max(y)+1\n",
    "    Y = np.zeros((len(y), nb_classes))\n",
    "    for i in range(len(y)):\n",
    "        Y[i, y[i]] = 1.\n",
    "    return Y\n",
    "\n",
    "\n",
    "def calculate_performace(test_num, pred_y, labels):\n",
    "    tp = 0\n",
    "    fp = 0\n",
    "    tn = 0\n",
    "    fn = 0\n",
    "    for index in range(test_num):\n",
    "        if labels[index] == 1:\n",
    "            if labels[index] == pred_y[index]:\n",
    "                tp = tp + 1\n",
    "            else:\n",
    "                fn = fn + 1\n",
    "        else:\n",
    "            if labels[index] == pred_y[index]:\n",
    "                tn = tn + 1\n",
    "            else:\n",
    "                fp = fp + 1\n",
    "\n",
    "    acc = float(tp + tn) / test_num\n",
    "    precision = float(tp) / (tp + fp + 1e-06)\n",
    "    npv = float(tn) / (tn + fn + 1e-06)\n",
    "    sensitivity = float(tp) / (tp + fn + 1e-06)\n",
    "    specificity = float(tn) / (tn + fp + 1e-06)\n",
    "    mcc = float(tp * tn - fp * fn) / (math.sqrt((tp + fp) * (tp + fn) * (tn + fp) * (tn + fn)) + 1e-06)\n",
    "    f1 = float(tp * 2) / (tp * 2 + fp + fn + 1e-06)\n",
    "    return acc, precision, npv, sensitivity, specificity, mcc, f1"
   ]
  },
  {
   "cell_type": "code",
   "execution_count": null,
   "metadata": {
    "id": "OQwJ_V3epuZI"
   },
   "outputs": [],
   "source": []
  },
  {
   "cell_type": "markdown",
   "metadata": {
    "id": "suRRHgbN7OrL"
   },
   "source": [
    "**Indpendent data test **"
   ]
  },
  {
   "cell_type": "code",
   "execution_count": 4,
   "metadata": {
    "colab": {
     "base_uri": "https://localhost:8080/"
    },
    "executionInfo": {
     "elapsed": 1380,
     "status": "ok",
     "timestamp": 1718383789993,
     "user": {
      "displayName": "Saeed Ahmed",
      "userId": "03293315304323978946"
     },
     "user_tz": -120
    },
    "id": "9xP63psY7Upl",
    "outputId": "93e8efae-b777-43d1-cdb6-6a06db35333a"
   },
   "outputs": [
    {
     "name": "stdout",
     "output_type": "stream",
     "text": [
      "xgboost:acc=0.934498,precision=0.949153,npv=0.918919,sensitivity=0.925620,specificity=0.944444,mcc=0.869067,f1=0.937238,roc_auc=0.981328\n",
      "acc=93.45% (+/- 0.00%)\n",
      "precision=94.92% (+/- 0.00%)\n",
      "npv=91.89% (+/- 0.00%)\n",
      "sensitivity=92.56% (+/- 0.00%)\n",
      "specificity=94.44% (+/- 0.00%)\n",
      "mcc=86.91% (+/- 0.00%)\n",
      "f1=93.72% (+/- 0.00%)\n",
      "roc_auc=98.13% (+/- 0.00%)\n"
     ]
    }
   ],
   "source": [
    "from sklearn.preprocessing import scale, StandardScaler\n",
    "import xgboost as xgb\n",
    "import numpy as np\n",
    "import matplotlib.pyplot as plt\n",
    "from sklearn.metrics import roc_curve, auc\n",
    "\n",
    "#############################################################\n",
    "path = \"/content/drive/MyDrive/QSAR/Update_2/Other_classifiers/\"\n",
    "data_=pd.read_csv(path+'data/X_train_rfe_EN.csv',header=None)\n",
    "data=np.array(data_)\n",
    "data = data\n",
    "[m1, n1] = np.shape(data)\n",
    "# label1 = np.ones((int(m1 / 2), 1))\n",
    "# label2 = np.zeros((int(m1 / 2), 1))\n",
    "# label = np.append(label1, label2)\n",
    "# shu = scale(data)\n",
    "X = data\n",
    "labels = pd.read_csv(path+'data/y_train_rfe_EN.csv',header=None).values\n",
    "y = labels\n",
    "#########################################################################################\n",
    "data_t = pd.read_csv(path+'data/X_test_rfe_EN.csv', header=None)\n",
    "dataTest = np.array(data_t)\n",
    "[m1, n1] = np.shape(dataTest)\n",
    "# label1 = np.ones((int(m1 / 2), 1))\n",
    "# label2 = np.zeros((int(m1 / 2), 1))\n",
    "# label = np.append(label1, label2)\n",
    "label = pd.read_csv(path+'data/y_test_rfe_EN.csv',header=None).values\n",
    "# shu = scale(dataTest)\n",
    "Xt = dataTest\n",
    "yt = label\n",
    "###########################################################################################\n",
    "sepscores = []\n",
    "ytest = np.ones((1, 2)) * 0.5\n",
    "yscore = np.ones((1, 2)) * 0.5\n",
    "\n",
    "cv_clf =  xgb.XGBClassifier()\n",
    "\n",
    "cv_clf=cv_clf.fit(X, y)\n",
    "\n",
    "y_score = cv_clf.predict_proba(Xt)\n",
    "yscore = np.vstack((yscore, y_score))\n",
    "y_test = to_categorical(yt)\n",
    "ytest = np.vstack((ytest, y_test))\n",
    "fpr, tpr, _ = roc_curve(y_test[:, 0], y_score[:, 0])\n",
    "roc_auc = auc(fpr, tpr)\n",
    "y_class = categorical_probas_to_classes(y_score)\n",
    "y_test_tmp = yt\n",
    "acc, precision, npv, sensitivity, specificity, mcc, f1 = calculate_performace(len(y_class), y_class,\n",
    "                                                                                    y_test_tmp)\n",
    "sepscores.append([acc, precision, npv, sensitivity, specificity, mcc, f1, roc_auc])\n",
    "print('xgboost:acc=%f,precision=%f,npv=%f,sensitivity=%f,specificity=%f,mcc=%f,f1=%f,roc_auc=%f'\n",
    "      % (acc, precision, npv, sensitivity, specificity, mcc, f1, roc_auc))\n",
    "scores = np.array(sepscores)\n",
    "print(\"acc=%.2f%% (+/- %.2f%%)\" % (np.mean(scores, axis=0)[0] * 100, np.std(scores, axis=0)[0] * 100))\n",
    "print(\"precision=%.2f%% (+/- %.2f%%)\" % (np.mean(scores, axis=0)[1] * 100, np.std(scores, axis=0)[1] * 100))\n",
    "print(\"npv=%.2f%% (+/- %.2f%%)\" % (np.mean(scores, axis=0)[2] * 100, np.std(scores, axis=0)[2] * 100))\n",
    "print(\"sensitivity=%.2f%% (+/- %.2f%%)\" % (np.mean(scores, axis=0)[3] * 100, np.std(scores, axis=0)[3] * 100))\n",
    "print(\"specificity=%.2f%% (+/- %.2f%%)\" % (np.mean(scores, axis=0)[4] * 100, np.std(scores, axis=0)[4] * 100))\n",
    "print(\"mcc=%.2f%% (+/- %.2f%%)\" % (np.mean(scores, axis=0)[5] * 100, np.std(scores, axis=0)[5] * 100))\n",
    "print(\"f1=%.2f%% (+/- %.2f%%)\" % (np.mean(scores, axis=0)[6] * 100, np.std(scores, axis=0)[6] * 100))\n",
    "print(\"roc_auc=%.2f%% (+/- %.2f%%)\" % (np.mean(scores, axis=0)[7] * 100, np.std(scores, axis=0)[7] * 100))\n",
    "result1 = np.mean(scores, axis=0)\n",
    "H1 = result1.tolist()\n",
    "sepscores.append(H1)\n",
    "result = sepscores\n",
    "row = yscore.shape[0]\n",
    "yscore = yscore[np.array(range(1, row)), :]\n",
    "yscore_sum = pd.DataFrame(data=yscore)\n",
    "yscore_sum.to_csv(path+'DL_results/xgboost_yscore_test.csv')\n",
    "ytest = ytest[np.array(range(1, row)), :]\n",
    "ytest_sum = pd.DataFrame(data=ytest)\n",
    "ytest_sum.to_csv(path+'DL_results/xgboost_ytest_test.csv')\n",
    "\n",
    "data_csv = pd.DataFrame(data=result)\n",
    "colum = ['ACC', 'precision', 'npv', 'Sn', 'Sp', 'MCC', 'F1', 'AUC']\n",
    "#ro = ['1', '2', '3', '4', '5', '6', '7', '8', '9', '10', '11']\n",
    "data_csv = pd.DataFrame(columns=colum, data=result)\n",
    "data_csv.to_csv(path+'DL_results/xgboost_test_results.csv')\n",
    "\n",
    "\n"
   ]
  }
 ],
 "metadata": {
  "colab": {
   "authorship_tag": "ABX9TyNHTf+PrZIj+r9gkSit5oMO",
   "mount_file_id": "1nH84qUvOBFuTkrm8PIginL-j9wm7jgFH",
   "provenance": []
  },
  "kernelspec": {
   "display_name": "Python 3",
   "name": "python3"
  },
  "language_info": {
   "name": "python"
  }
 },
 "nbformat": 4,
 "nbformat_minor": 0
}
