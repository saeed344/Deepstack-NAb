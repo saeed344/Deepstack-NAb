{
 "cells": [
  {
   "cell_type": "code",
   "execution_count": null,
   "metadata": {
    "id": "a8mSEpy766EE"
   },
   "outputs": [],
   "source": []
  },
  {
   "cell_type": "code",
   "execution_count": null,
   "metadata": {
    "id": "Ty4l8d017BXl"
   },
   "outputs": [],
   "source": [
    "import itertools\n",
    "import numpy as np\n",
    "import matplotlib.pyplot as plt\n",
    "from sklearn.metrics import roc_curve, auc\n",
    "import pandas as pd\n",
    "import math\n",
    "\n",
    "def categorical_probas_to_classes(p):\n",
    "    return np.argmax(p, axis=1)\n",
    "\n",
    "def to_categorical(y, nb_classes=None):\n",
    "    '''Convert class vector (integers from 0 to nb_classes)\n",
    "    to binary class matrix, for use with categorical_crossentropy.\n",
    "    '''\n",
    "    y = np.array(y, dtype='int')\n",
    "    if not nb_classes:\n",
    "        nb_classes = np.max(y)+1\n",
    "    Y = np.zeros((len(y), nb_classes))\n",
    "    for i in range(len(y)):\n",
    "        Y[i, y[i]] = 1.\n",
    "    return Y\n",
    "\n",
    "\n",
    "def calculate_performace(test_num, pred_y, labels):\n",
    "    tp = 0\n",
    "    fp = 0\n",
    "    tn = 0\n",
    "    fn = 0\n",
    "    for index in range(test_num):\n",
    "        if labels[index] == 1:\n",
    "            if labels[index] == pred_y[index]:\n",
    "                tp = tp + 1\n",
    "            else:\n",
    "                fn = fn + 1\n",
    "        else:\n",
    "            if labels[index] == pred_y[index]:\n",
    "                tn = tn + 1\n",
    "            else:\n",
    "                fp = fp + 1\n",
    "\n",
    "    acc = float(tp + tn) / test_num\n",
    "    precision = float(tp) / (tp + fp + 1e-06)\n",
    "    npv = float(tn) / (tn + fn + 1e-06)\n",
    "    sensitivity = float(tp) / (tp + fn + 1e-06)\n",
    "    specificity = float(tn) / (tn + fp + 1e-06)\n",
    "    mcc = float(tp * tn - fp * fn) / (math.sqrt((tp + fp) * (tp + fn) * (tn + fp) * (tn + fn)) + 1e-06)\n",
    "    f1 = float(tp * 2) / (tp * 2 + fp + fn + 1e-06)\n",
    "    return acc, precision, npv, sensitivity, specificity, mcc, f1"
   ]
  },
  {
   "cell_type": "markdown",
   "metadata": {
    "id": "suRRHgbN7OrL"
   },
   "source": [
    "**Indpendent data test **"
   ]
  }
 ],
 "metadata": {
  "colab": {
   "authorship_tag": "ABX9TyNg7GhbMc49tEYtdtDWz+hj",
   "mount_file_id": "1rMuXLKYGJuRpSdDMVV12sEyv8F1iX7nw",
   "provenance": []
  },
  "kernelspec": {
   "display_name": "Python 3",
   "name": "python3"
  },
  "language_info": {
   "name": "python"
  }
 },
 "nbformat": 4,
 "nbformat_minor": 0
}
