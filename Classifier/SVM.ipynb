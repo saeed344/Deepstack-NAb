{
 "cells": [
  {
   "cell_type": "code",
   "execution_count": null,
   "metadata": {
    "id": "a8mSEpy766EE"
   },
   "outputs": [],
   "source": []
  },
  {
   "cell_type": "code",
   "execution_count": 1,
   "metadata": {
    "executionInfo": {
     "elapsed": 6656,
     "status": "ok",
     "timestamp": 1718390657964,
     "user": {
      "displayName": "Saeed Ahmed",
      "userId": "03293315304323978946"
     },
     "user_tz": -120
    },
    "id": "Ty4l8d017BXl"
   },
   "outputs": [],
   "source": [
    "import itertools\n",
    "import numpy as np\n",
    "import matplotlib.pyplot as plt\n",
    "from sklearn.metrics import roc_curve, auc\n",
    "import pandas as pd\n",
    "import math\n",
    "\n",
    "def categorical_probas_to_classes(p):\n",
    "    return np.argmax(p, axis=1)\n",
    "\n",
    "def to_categorical(y, nb_classes=None):\n",
    "    '''Convert class vector (integers from 0 to nb_classes)\n",
    "    to binary class matrix, for use with categorical_crossentropy.\n",
    "    '''\n",
    "    y = np.array(y, dtype='int')\n",
    "    if not nb_classes:\n",
    "        nb_classes = np.max(y)+1\n",
    "    Y = np.zeros((len(y), nb_classes))\n",
    "    for i in range(len(y)):\n",
    "        Y[i, y[i]] = 1.\n",
    "    return Y\n",
    "\n",
    "\n",
    "def calculate_performace(test_num, pred_y, labels):\n",
    "    tp = 0\n",
    "    fp = 0\n",
    "    tn = 0\n",
    "    fn = 0\n",
    "    for index in range(test_num):\n",
    "        if labels[index] == 1:\n",
    "            if labels[index] == pred_y[index]:\n",
    "                tp = tp + 1\n",
    "            else:\n",
    "                fn = fn + 1\n",
    "        else:\n",
    "            if labels[index] == pred_y[index]:\n",
    "                tn = tn + 1\n",
    "            else:\n",
    "                fp = fp + 1\n",
    "\n",
    "    acc = float(tp + tn) / test_num\n",
    "    precision = float(tp) / (tp + fp + 1e-06)\n",
    "    npv = float(tn) / (tn + fn + 1e-06)\n",
    "    sensitivity = float(tp) / (tp + fn + 1e-06)\n",
    "    specificity = float(tn) / (tn + fp + 1e-06)\n",
    "    mcc = float(tp * tn - fp * fn) / (math.sqrt((tp + fp) * (tp + fn) * (tn + fp) * (tn + fn)) + 1e-06)\n",
    "    f1 = float(tp * 2) / (tp * 2 + fp + fn + 1e-06)\n",
    "    return acc, precision, npv, sensitivity, specificity, mcc, f1"
   ]
  },
  {
   "cell_type": "markdown",
   "metadata": {
    "id": "suRRHgbN7OrL"
   },
   "source": [
    "**Indpendent data test **"
   ]
  },
  {
   "cell_type": "code",
   "execution_count": 7,
   "metadata": {
    "colab": {
     "base_uri": "https://localhost:8080/"
    },
    "executionInfo": {
     "elapsed": 1190,
     "status": "ok",
     "timestamp": 1718390968109,
     "user": {
      "displayName": "Saeed Ahmed",
      "userId": "03293315304323978946"
     },
     "user_tz": -120
    },
    "id": "9xP63psY7Upl",
    "outputId": "bf678dcd-f4c5-4c3d-f5b9-caf283805476"
   },
   "outputs": [
    {
     "name": "stderr",
     "output_type": "stream",
     "text": [
      "/usr/local/lib/python3.10/dist-packages/sklearn/utils/validation.py:1143: DataConversionWarning: A column-vector y was passed when a 1d array was expected. Please change the shape of y to (n_samples, ), for example using ravel().\n",
      "  y = column_or_1d(y, warn=True)\n"
     ]
    },
    {
     "name": "stdout",
     "output_type": "stream",
     "text": [
      "MLP:acc=0.864629,precision=0.959184,npv=0.793893,sensitivity=0.776859,specificity=0.962963,mcc=0.746420,f1=0.858447,roc_auc=0.960132\n",
      "acc=86.46% (+/- 0.00%)\n",
      "precision=95.92% (+/- 0.00%)\n",
      "npv=79.39% (+/- 0.00%)\n",
      "sensitivity=77.69% (+/- 0.00%)\n",
      "specificity=96.30% (+/- 0.00%)\n",
      "mcc=74.64% (+/- 0.00%)\n",
      "f1=85.84% (+/- 0.00%)\n",
      "roc_auc=96.01% (+/- 0.00%)\n"
     ]
    }
   ],
   "source": [
    "from sklearn.preprocessing import scale, StandardScaler\n",
    "from sklearn.ensemble import RandomForestClassifier\n",
    "from sklearn.svm import SVC\n",
    "import numpy as np\n",
    "import matplotlib.pyplot as plt\n",
    "from sklearn.metrics import roc_curve, auc\n",
    "\n",
    "#############################################################\n",
    "path = \"/content/drive/MyDrive/QSAR/Update_2/Other_classifiers/\"\n",
    "data_=pd.read_csv(path+'data/X_train_rfe_EN.csv',header=None)\n",
    "data=np.array(data_)\n",
    "data = data\n",
    "[m1, n1] = np.shape(data)\n",
    "# label1 = np.ones((int(m1 / 2), 1))\n",
    "# label2 = np.zeros((int(m1 / 2), 1))\n",
    "# label = np.append(label1, label2)\n",
    "# shu = scale(data)\n",
    "X = data\n",
    "labels = pd.read_csv(path+'data/y_train_rfe_EN.csv',header=None).values\n",
    "y = labels\n",
    "#########################################################################################\n",
    "data_t = pd.read_csv(path+'data/X_test_rfe_EN.csv', header=None)\n",
    "dataTest = np.array(data_t)\n",
    "[m1, n1] = np.shape(dataTest)\n",
    "# label1 = np.ones((int(m1 / 2), 1))\n",
    "# label2 = np.zeros((int(m1 / 2), 1))\n",
    "# label = np.append(label1, label2)\n",
    "label = pd.read_csv(path+'data/y_test_rfe_EN.csv',header=None).values\n",
    "# shu = scale(dataTest)\n",
    "Xt = dataTest\n",
    "yt = label\n",
    "###########################################################################################\n",
    "sepscores = []\n",
    "ytest = np.ones((1, 2)) * 0.5\n",
    "yscore = np.ones((1, 2)) * 0.5\n",
    "\n",
    "cv_clf =  SVC(C=0.05,gamma=0.001,probability=True)\n",
    "\n",
    "cv_clf=cv_clf.fit(X, y)\n",
    "\n",
    "y_score = cv_clf.predict_proba(Xt)\n",
    "yscore = np.vstack((yscore, y_score))\n",
    "y_test = to_categorical(yt)\n",
    "ytest = np.vstack((ytest, y_test))\n",
    "fpr, tpr, _ = roc_curve(y_test[:, 0], y_score[:, 0])\n",
    "roc_auc = auc(fpr, tpr)\n",
    "y_class = categorical_probas_to_classes(y_score)\n",
    "y_test_tmp = yt\n",
    "acc, precision, npv, sensitivity, specificity, mcc, f1 = calculate_performace(len(y_class), y_class,\n",
    "                                                                                    y_test_tmp)\n",
    "sepscores.append([acc, precision, npv, sensitivity, specificity, mcc, f1, roc_auc])\n",
    "print('MLP:acc=%f,precision=%f,npv=%f,sensitivity=%f,specificity=%f,mcc=%f,f1=%f,roc_auc=%f'\n",
    "      % (acc, precision, npv, sensitivity, specificity, mcc, f1, roc_auc))\n",
    "scores = np.array(sepscores)\n",
    "print(\"acc=%.2f%% (+/- %.2f%%)\" % (np.mean(scores, axis=0)[0] * 100, np.std(scores, axis=0)[0] * 100))\n",
    "print(\"precision=%.2f%% (+/- %.2f%%)\" % (np.mean(scores, axis=0)[1] * 100, np.std(scores, axis=0)[1] * 100))\n",
    "print(\"npv=%.2f%% (+/- %.2f%%)\" % (np.mean(scores, axis=0)[2] * 100, np.std(scores, axis=0)[2] * 100))\n",
    "print(\"sensitivity=%.2f%% (+/- %.2f%%)\" % (np.mean(scores, axis=0)[3] * 100, np.std(scores, axis=0)[3] * 100))\n",
    "print(\"specificity=%.2f%% (+/- %.2f%%)\" % (np.mean(scores, axis=0)[4] * 100, np.std(scores, axis=0)[4] * 100))\n",
    "print(\"mcc=%.2f%% (+/- %.2f%%)\" % (np.mean(scores, axis=0)[5] * 100, np.std(scores, axis=0)[5] * 100))\n",
    "print(\"f1=%.2f%% (+/- %.2f%%)\" % (np.mean(scores, axis=0)[6] * 100, np.std(scores, axis=0)[6] * 100))\n",
    "print(\"roc_auc=%.2f%% (+/- %.2f%%)\" % (np.mean(scores, axis=0)[7] * 100, np.std(scores, axis=0)[7] * 100))\n",
    "result1 = np.mean(scores, axis=0)\n",
    "H1 = result1.tolist()\n",
    "sepscores.append(H1)\n",
    "result = sepscores\n",
    "row = yscore.shape[0]\n",
    "yscore = yscore[np.array(range(1, row)), :]\n",
    "yscore_sum = pd.DataFrame(data=yscore)\n",
    "yscore_sum.to_csv(path+'DL_results/SVC_yscore_test.csv')\n",
    "ytest = ytest[np.array(range(1, row)), :]\n",
    "ytest_sum = pd.DataFrame(data=ytest)\n",
    "ytest_sum.to_csv(path+'DL_results/SVC_ytest_test.csv')\n",
    "\n",
    "data_csv = pd.DataFrame(data=result)\n",
    "colum = ['ACC', 'precision', 'npv', 'Sn', 'Sp', 'MCC', 'F1', 'AUC']\n",
    "#ro = ['1', '2', '3', '4', '5', '6', '7', '8', '9', '10', '11']\n",
    "data_csv = pd.DataFrame(columns=colum, data=result)\n",
    "data_csv.to_csv(path+'DL_results/SVC_test_results.csv')\n",
    "\n",
    "\n"
   ]
  }
 ],
 "metadata": {
  "colab": {
   "authorship_tag": "ABX9TyOyIES58/NHDKM4cRZetlkX",
   "mount_file_id": "1RjPNJpfEeH5tgU1t0lseiz6H_o5bg6uo",
   "provenance": []
  },
  "kernelspec": {
   "display_name": "Python 3",
   "name": "python3"
  },
  "language_info": {
   "name": "python"
  }
 },
 "nbformat": 4,
 "nbformat_minor": 0
}
