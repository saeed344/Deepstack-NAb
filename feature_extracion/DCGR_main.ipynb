{
 "cells": [
  {
   "cell_type": "code",
   "execution_count": 1,
   "metadata": {
    "colab": {
     "base_uri": "https://localhost:8080/"
    },
    "executionInfo": {
     "elapsed": 62783,
     "status": "ok",
     "timestamp": 1735637308289,
     "user": {
      "displayName": "Saeed Ahmed",
      "userId": "16724720564507897686"
     },
     "user_tz": -300
    },
    "id": "SAc_8baGwLr4",
    "outputId": "6baf6cfe-e53b-49d6-fafd-e0b94817b013"
   },
   "outputs": [
    {
     "name": "stdout",
     "output_type": "stream",
     "text": [
      "Mounted at /content/drive\n"
     ]
    }
   ],
   "source": [
    "from google.colab import drive\n",
    "drive.mount('/content/drive')"
   ]
  },
  {
   "cell_type": "code",
   "execution_count": 2,
   "metadata": {
    "colab": {
     "base_uri": "https://localhost:8080/"
    },
    "executionInfo": {
     "elapsed": 7898,
     "status": "ok",
     "timestamp": 1735637316182,
     "user": {
      "displayName": "Saeed Ahmed",
      "userId": "16724720564507897686"
     },
     "user_tz": -300
    },
    "id": "qOHs_d_LyOcB",
    "outputId": "1673b1c0-6037-4116-d49a-b4276723e4c1"
   },
   "outputs": [
    {
     "name": "stdout",
     "output_type": "stream",
     "text": [
      "Collecting biopython\n",
      "  Downloading biopython-1.84-cp310-cp310-manylinux_2_17_x86_64.manylinux2014_x86_64.whl.metadata (12 kB)\n",
      "Requirement already satisfied: numpy in /usr/local/lib/python3.10/dist-packages (from biopython) (1.26.4)\n",
      "Downloading biopython-1.84-cp310-cp310-manylinux_2_17_x86_64.manylinux2014_x86_64.whl (3.2 MB)\n",
      "\u001b[?25l   \u001b[90m━━━━━━━━━━━━━━━━━━━━━━━━━━━━━━━━━━━━━━━━\u001b[0m \u001b[32m0.0/3.2 MB\u001b[0m \u001b[31m?\u001b[0m eta \u001b[36m-:--:--\u001b[0m\r\u001b[2K   \u001b[91m━━━━━━\u001b[0m\u001b[91m╸\u001b[0m\u001b[90m━━━━━━━━━━━━━━━━━━━━━━━━━━━━━━━━━\u001b[0m \u001b[32m0.5/3.2 MB\u001b[0m \u001b[31m17.0 MB/s\u001b[0m eta \u001b[36m0:00:01\u001b[0m\r\u001b[2K   \u001b[91m━━━━━━━━━━━━━━━━━━━━━━━━━━━━━━━━━━━━━━━\u001b[0m\u001b[91m╸\u001b[0m \u001b[32m3.2/3.2 MB\u001b[0m \u001b[31m52.6 MB/s\u001b[0m eta \u001b[36m0:00:01\u001b[0m\r\u001b[2K   \u001b[90m━━━━━━━━━━━━━━━━━━━━━━━━━━━━━━━━━━━━━━━━\u001b[0m \u001b[32m3.2/3.2 MB\u001b[0m \u001b[31m37.8 MB/s\u001b[0m eta \u001b[36m0:00:00\u001b[0m\n",
      "\u001b[?25hInstalling collected packages: biopython\n",
      "Successfully installed biopython-1.84\n"
     ]
    }
   ],
   "source": [
    "!pip install biopython"
   ]
  },
  {
   "cell_type": "code",
   "execution_count": null,
   "metadata": {
    "executionInfo": {
     "elapsed": 76249,
     "status": "ok",
     "timestamp": 1735637606437,
     "user": {
      "displayName": "Saeed Ahmed",
      "userId": "16724720564507897686"
     },
     "user_tz": -300
    },
    "id": "cKNYalfDwQWl"
   },
   "outputs": [],
   "source": [
    "import numpy as np\n",
    "import pandas as pd\n",
    "from scipy.spatial.distance import pdist, squareform\n",
    "from scipy.linalg import eigh\n",
    "from Bio import SeqIO\n",
    "from sklearn.decomposition import PCA\n",
    "from scipy.io import loadmat\n",
    "\n",
    "# Create a graph representation of the sequence in space\n",
    "def graph_repre_of_seq(seq, M, P):\n",
    "    l_seq = len(seq)\n",
    "    k = M.shape[0]\n",
    "    g = []\n",
    "    for j in range(k):\n",
    "        c = np.zeros(2)\n",
    "        g_j = [c]\n",
    "        for i in range(l_seq):\n",
    "            x = (np.array([char == seq[i] for char in M[j]]).astype(float))\n",
    "            c = (x.dot(P) + c) / 2\n",
    "            g_j.append(c)\n",
    "        g.append(np.array(g_j))\n",
    "    return g\n",
    "\n",
    "# Create distance matrix and calculate eigenvector values\n",
    "def eigvector_distmatrix(g_p):\n",
    "    v = []\n",
    "    for g in g_p:\n",
    "        eigvecs = []\n",
    "        for gp in g:\n",
    "                else:\n",
    "                    eigvecs.append(np.array([0]))\n",
    "            else:\n",
    "                eigvecs.append(np.array([0]))\n",
    "        v.append(eigvecs)\n",
    "    return v\n",
    "\n",
    "# Calculate pairwise distance matrix\n",
    "def dist_matrix(x):\n",
    "    d = pdist(x)\n",
    "    return squareform(d)\n",
    "\n",
    "# Generate 2D coordinates for 20 points\n",
    "def coordinate(R):\n",
    "    P = np.array([[R * np.cos(i * 2 * np.pi / 20), R * np.sin(i * 2 * np.pi / 20)] for i in range(20)])\n",
    "    return P\n",
    "\n",
    "# Main function to process sequences, partition, and apply PCA\n",
    "def DCGR_mainfun(fasta_file, K):\n",
    "    # Load sequence data and global matrix M\n",
    "    M = np.load('/content/drive/MyDrive/Watashara_Projects/ACE/data/AAA_data.npy')  # Assuming M is stored in AAA.npy\n",
    "    R = 1\n",
    "    P = coordinate(R)\n",
    "\n",
    "    # Read FASTA file\n",
    "    sequences = [str(record.seq) for record in SeqIO.parse(fasta_file, \"fasta\")]\n",
    "    l = len(sequences)\n",
    "\n",
    "\n",
    "\n",
    "    # Step 3: Calculate eigenvector distance matrix for partitions\n",
    "    v = [eigvector_distmatrix(gp) for gp in g_p_partition]\n",
    "\n",
    "    # Step 4: Extract feature vectors\n",
    "    FP = []\n",
    "    for t in range(l):\n",
    "        ss = []\n",
    "        for i in range(len(v[t])):\n",
    "\n",
    "                    sorted_eigvals = np.sort(v[t][i][j])[::-1]  # Sort in descending order\n",
    "                    ss.append(sorted_eigvals[0])  # Take the largest eigenvalue\n",
    "          \n",
    "                    ss.append(0)\n",
    "        FP.append(np.array(ss))\n",
    "\n",
    "    FV_p = np.vstack(FP)\n",
    "\n",
    "\n",
    "    return FV_p\n",
    "\n",
    "\n",
    "\n"
   ]
  }
 ],
 "metadata": {
  "colab": {
   "authorship_tag": "ABX9TyP/R4KAhrZhYgskM1ZTrnB1",
   "provenance": []
  },
  "kernelspec": {
   "display_name": "Python 3",
   "name": "python3"
  },
  "language_info": {
   "name": "python"
  }
 },
 "nbformat": 4,
 "nbformat_minor": 0
}
