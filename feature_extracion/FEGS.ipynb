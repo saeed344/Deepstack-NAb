{
 "cells": [
  {
   "cell_type": "code",
   "execution_count": 1,
   "metadata": {
    "colab": {
     "base_uri": "https://localhost:8080/"
    },
    "executionInfo": {
     "elapsed": 98625,
     "status": "ok",
     "timestamp": 1735833535653,
     "user": {
      "displayName": "Saeed Ahmed",
      "userId": "16724720564507897686"
     },
     "user_tz": -300
    },
    "id": "SAc_8baGwLr4",
    "outputId": "ddf4f8a8-c3f9-453a-ca7e-261b56befa07"
   },
   "outputs": [
    {
     "name": "stdout",
     "output_type": "stream",
     "text": [
      "Mounted at /content/drive\n"
     ]
    }
   ],
   "source": [
    "from google.colab import drive\n",
    "drive.mount('/content/drive')"
   ]
  },
  {
   "cell_type": "code",
   "execution_count": 3,
   "metadata": {
    "colab": {
     "base_uri": "https://localhost:8080/"
    },
    "executionInfo": {
     "elapsed": 6900,
     "status": "ok",
     "timestamp": 1735833550106,
     "user": {
      "displayName": "Saeed Ahmed",
      "userId": "16724720564507897686"
     },
     "user_tz": -300
    },
    "id": "qOHs_d_LyOcB",
    "outputId": "41c1202b-63ef-4c34-eecd-539512f42610"
   },
   "outputs": [
    {
     "name": "stdout",
     "output_type": "stream",
     "text": [
      "Collecting biopython\n",
      "  Downloading biopython-1.84-cp310-cp310-manylinux_2_17_x86_64.manylinux2014_x86_64.whl.metadata (12 kB)\n",
      "Requirement already satisfied: numpy in /usr/local/lib/python3.10/dist-packages (from biopython) (1.26.4)\n",
      "Downloading biopython-1.84-cp310-cp310-manylinux_2_17_x86_64.manylinux2014_x86_64.whl (3.2 MB)\n",
      "\u001b[2K   \u001b[90m━━━━━━━━━━━━━━━━━━━━━━━━━━━━━━━━━━━━━━━━\u001b[0m \u001b[32m3.2/3.2 MB\u001b[0m \u001b[31m25.1 MB/s\u001b[0m eta \u001b[36m0:00:00\u001b[0m\n",
      "\u001b[?25hInstalling collected packages: biopython\n",
      "Successfully installed biopython-1.84\n"
     ]
    }
   ],
   "source": [
    "!pip install biopython"
   ]
  },
  {
   "cell_type": "code",
   "execution_count": null,
   "metadata": {
    "executionInfo": {
     "elapsed": 69627,
     "status": "ok",
     "timestamp": 1735833658583,
     "user": {
      "displayName": "Saeed Ahmed",
      "userId": "16724720564507897686"
     },
     "user_tz": -300
    },
    "id": "cKNYalfDwQWl"
   },
   "outputs": [],
   "source": [
    "import numpy as np\n",
    "import pandas as pd\n",
    "from scipy.spatial.distance import pdist, squareform\n",
    "from scipy.linalg import eigvals\n",
    "from Bio import SeqIO\n",
    "from scipy.linalg import eig\n",
    "\n",
    "\n",
    "\n",
    "\n",
    "# ME: Calculates the eigenvalue-based metric from matrix W\n",
    "def ME(W):\n",
    "    if W.ndim == 1:\n",
    "        # If W is a 1D array, reshape it to 2D\n",
    "        W = W.reshape(-1, 1)\n",
    "\n",
    "    W = W[1:, :]  # Remove the first row\n",
    "    D = pdist(W)  # Pairwise distances\n",
    "    E = squareform(D)\n",
    "\n",
    "    x = W.shape[0]\n",
    "    sdist = np.zeros((x, x))\n",
    "\n",
    "    for i in range(x):\n",
    "        for j in range(i, x):\n",
    "            if j - i == 1:\n",
    "                sdist[i, j] = E[i, j]\n",
    "            elif j - i > 1:\n",
    "                sdist[i, j] = sdist[i, j - 1] + E[j - 1, j]\n",
    "\n",
    "    sd = sdist + sdist.T\n",
    "    sdd = sd + np.eye(x)\n",
    "    L = E / sdd\n",
    "\n",
    "    # Get the eigenvalues and find the largest\n",
    "    eigvals = eig(L, right=False)\n",
    "    largest_eigval = np.max(eigvals.real)  # Use the real part of the eigenvalues\n",
    "\n",
    "    return largest_eigval / x\n",
    "\n",
    "\n",
    "\n",
    "# GRS: Calculates the geometric representation of the sequence in space\n",
    "def GRS(seq, P, V, M):\n",
    "    l_seq = len(seq)\n",
    "    k = M.shape[0]\n",
    "\n",
    "    g = []\n",
    "    for j in range(k):\n",
    "        c = np.zeros(3)\n",
    "        d = np.zeros(3)\n",
    "        y = np.zeros(20)\n",
    "\n",
    "        for i in range(l_seq):\n",
    "            x = (seq[i] == M[j, :])\n",
    "\n",
    "            if i == 0:\n",
    "                c = c + x.dot(P)\n",
    "            elif all(x == 0):\n",
    "                d = d * (i - 1) / i\n",
    "                c = c + np.array([0, 0, 1]) + d\n",
    "            elif all(y == 0):\n",
    "                d = d * (i - 1) / i\n",
    "                c = c + x.dot(P) + d\n",
    "            else:\n",
    "                d = d * (i - 1) / i + V[np.where(y == 1)[0][0], np.where(x == 1)[0][0]] / i\n",
    "                c = c + x.dot(P) + d\n",
    "\n",
    "            y = x\n",
    "\n",
    "        g.append(c)\n",
    "\n",
    "    return np.array(g)\n",
    "\n",
    "\n",
    "\n",
    "\n",
    "# FEGS: Extract features from sequences in a FASTA file\n",
    "def FEGS(sequences):\n",
    "    P, V = coordinate()\n",
    "\n",
    "    # Load sequences from the FASTA file\n",
    "    # sequences = [str(record.seq) for record in SeqIO.parse(fasta_file, \"fasta\")]\n",
    "    l = len(sequences)\n",
    "\n",
    "    # Initialize results\n",
    "    g_p = []\n",
    "    EL = np.zeros((l, 158))\n",
    "    FA = np.zeros((l, 20))\n",
    "    FD = np.zeros((l, 400))\n",
    "    char = \"ARNDCQEGHILKMFPSTWYV\"\n",
    "\n",
    "    # Parallel processing setup (optional, can use joblib or multiprocessing)\n",
    "    for i in range(l):\n",
    "        # Calculate GRS and ME features\n",
    "        g_p.append(GRS(sequences[i], P, V, np.array([list(char)] * 158)))\n",
    "\n",
    "        for u in range(158):\n",
    "            EL[i, u] = ME(g_p[i][u])\n",
    "\n",
    "        # Calculate AAC and DPC features\n",
    "        AAC, DPC = SAD(sequences[i], char)\n",
    "        FA[i, :] = AAC\n",
    "        FD[i, :] = DPC.flatten()\n",
    "\n",
    "    # Combine all features\n",
    "    FV = np.hstack([EL, FA, FD])\n",
    "\n",
    "    return FV\n",
    "\n",
    "#"
   ]
  }
 ],
 "metadata": {
  "colab": {
   "authorship_tag": "ABX9TyPgbJEIwP71hir2lfj/UEKl",
   "provenance": []
  },
  "kernelspec": {
   "display_name": "Python 3",
   "name": "python3"
  },
  "language_info": {
   "name": "python"
  }
 },
 "nbformat": 4,
 "nbformat_minor": 0
}
